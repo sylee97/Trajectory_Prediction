{
 "cells": [
  {
   "cell_type": "code",
   "execution_count": 1,
   "id": "1f05529c-6672-4a53-8a98-ab138b55efe8",
   "metadata": {},
   "outputs": [],
   "source": [
    "from torch.utils.data import DataLoader\n",
    "import sys\n",
    "sys.path.append('C:\\\\Users\\\\NGN\\\\dev\\\\Traffino\\\\TRAFFINO\\\\traffino\\\\data')\n",
    "from trajectories import TrajectoryDataset, seq_collate"
   ]
  },
  {
   "cell_type": "code",
   "execution_count": 2,
   "id": "b9ba8652-a5a7-45d9-8562-6b41ca553dbd",
   "metadata": {},
   "outputs": [
    {
     "ename": "NameError",
     "evalue": "name 'argparse' is not defined",
     "output_type": "error",
     "traceback": [
      "\u001b[1;31m---------------------------------------------------------------------------\u001b[0m",
      "\u001b[1;31mNameError\u001b[0m                                 Traceback (most recent call last)",
      "Cell \u001b[1;32mIn[2], line 1\u001b[0m\n\u001b[1;32m----> 1\u001b[0m parser \u001b[38;5;241m=\u001b[39m \u001b[43margparse\u001b[49m\u001b[38;5;241m.\u001b[39mArgumentParser()\n\u001b[0;32m      2\u001b[0m parser\u001b[38;5;241m.\u001b[39madd_argument(\u001b[38;5;124m'\u001b[39m\u001b[38;5;124m--obs_len\u001b[39m\u001b[38;5;124m'\u001b[39m, default\u001b[38;5;241m=\u001b[39m\u001b[38;5;241m8\u001b[39m)\n\u001b[0;32m      3\u001b[0m parser\u001b[38;5;241m.\u001b[39madd_argument(\u001b[38;5;124m'\u001b[39m\u001b[38;5;124m--pred_len\u001b[39m\u001b[38;5;124m'\u001b[39m, default\u001b[38;5;241m=\u001b[39m\u001b[38;5;241m8\u001b[39m)\n",
      "\u001b[1;31mNameError\u001b[0m: name 'argparse' is not defined"
     ]
    }
   ],
   "source": [
    "parser = argparse.ArgumentParser()\n",
    "parser.add_argument('--obs_len', default=8)\n",
    "parser.add_argument('--pred_len', default=8)\n",
    "parser.add_argument('--skip', default=1)\n",
    "parser.add_argument('--delim', default=' ')\n",
    "parser.add_argument('--batch_size', default=64)\n",
    "parser.add_argument('--shuffle', default=True)\n",
    "parser.add_argument('--num_workers', default=4)"
   ]
  },
  {
   "cell_type": "code",
   "execution_count": 2,
   "id": "c95f2e2f-bd38-4eb3-85b4-611b637b378c",
   "metadata": {},
   "outputs": [],
   "source": [
    "path = 'C:\\\\Users\\\\NGN\\\\dev\\\\Traffino\\\\TRAFFINO\\\\traffino\\\\datasets'\n",
    "obs_len = 8\n",
    "pred_len = 8\n",
    "skip = 1\n",
    "delim = '\\t'\n",
    "batch_size = 64\n",
    "shuffle = True\n",
    "num_workers = 4"
   ]
  },
  {
   "cell_type": "code",
   "execution_count": 3,
   "id": "72603cae-d2f6-4bfc-b3cc-22c8140c28ab",
   "metadata": {},
   "outputs": [],
   "source": [
    "def data_loader():\n",
    "    dset = TrajectoryDataset(\n",
    "        path,\n",
    "        obs_len,# args.obs_len,\n",
    "        pred_len, # args.pred_len,\n",
    "        skip,# args.skip,\n",
    "        delim# args.delim\n",
    "    )\n",
    "\n",
    "    loader = DataLoader(\n",
    "        dset,\n",
    "        batch_size, # args.batch_size,\n",
    "        shuffle,\n",
    "        num_workers, # args.loader_num_workers,\n",
    "        collate_fn=seq_collate)\n",
    "    return dset, loader"
   ]
  },
  {
   "cell_type": "code",
   "execution_count": 4,
   "id": "3fb52922-d516-4385-9001-0ff8063d97aa",
   "metadata": {},
   "outputs": [],
   "source": [
    "train_path = 'C:\\\\Users\\\\NGN\\\\dev\\\\Traffino\\\\TRAFFINO\\\\traffino\\\\datasets'"
   ]
  },
  {
   "cell_type": "code",
   "execution_count": 5,
   "id": "176391e6-8ff0-48b1-bd83-08cafbae2a3d",
   "metadata": {},
   "outputs": [
    {
     "ename": "ValueError",
     "evalue": "could not convert string to float: ''",
     "output_type": "error",
     "traceback": [
      "\u001b[1;31m---------------------------------------------------------------------------\u001b[0m",
      "\u001b[1;31mValueError\u001b[0m                                Traceback (most recent call last)",
      "Cell \u001b[1;32mIn[5], line 1\u001b[0m\n\u001b[1;32m----> 1\u001b[0m train_dset, train_loader \u001b[38;5;241m=\u001b[39m \u001b[43mdata_loader\u001b[49m\u001b[43m(\u001b[49m\u001b[43m)\u001b[49m\n",
      "Cell \u001b[1;32mIn[3], line 2\u001b[0m, in \u001b[0;36mdata_loader\u001b[1;34m()\u001b[0m\n\u001b[0;32m      1\u001b[0m \u001b[38;5;28;01mdef\u001b[39;00m \u001b[38;5;21mdata_loader\u001b[39m():\n\u001b[1;32m----> 2\u001b[0m     dset \u001b[38;5;241m=\u001b[39m \u001b[43mTrajectoryDataset\u001b[49m\u001b[43m(\u001b[49m\n\u001b[0;32m      3\u001b[0m \u001b[43m        \u001b[49m\u001b[43mpath\u001b[49m\u001b[43m,\u001b[49m\n\u001b[0;32m      4\u001b[0m \u001b[43m        \u001b[49m\u001b[43mobs_len\u001b[49m\u001b[43m,\u001b[49m\u001b[38;5;66;43;03m# args.obs_len,\u001b[39;49;00m\n\u001b[0;32m      5\u001b[0m \u001b[43m        \u001b[49m\u001b[43mpred_len\u001b[49m\u001b[43m,\u001b[49m\u001b[43m \u001b[49m\u001b[38;5;66;43;03m# args.pred_len,\u001b[39;49;00m\n\u001b[0;32m      6\u001b[0m \u001b[43m        \u001b[49m\u001b[43mskip\u001b[49m\u001b[43m,\u001b[49m\u001b[38;5;66;43;03m# args.skip,\u001b[39;49;00m\n\u001b[0;32m      7\u001b[0m \u001b[43m        \u001b[49m\u001b[43mdelim\u001b[49m\u001b[38;5;66;43;03m# args.delim\u001b[39;49;00m\n\u001b[0;32m      8\u001b[0m \u001b[43m    \u001b[49m\u001b[43m)\u001b[49m\n\u001b[0;32m     10\u001b[0m     loader \u001b[38;5;241m=\u001b[39m DataLoader(\n\u001b[0;32m     11\u001b[0m         dset,\n\u001b[0;32m     12\u001b[0m         batch_size, \u001b[38;5;66;03m# args.batch_size,\u001b[39;00m\n\u001b[0;32m     13\u001b[0m         shuffle,\n\u001b[0;32m     14\u001b[0m         num_workers, \u001b[38;5;66;03m# args.loader_num_workers,\u001b[39;00m\n\u001b[0;32m     15\u001b[0m         collate_fn\u001b[38;5;241m=\u001b[39mseq_collate)\n\u001b[0;32m     16\u001b[0m     \u001b[38;5;28;01mreturn\u001b[39;00m dset, loader\n",
      "File \u001b[1;32m~\\dev\\Traffino\\TRAFFINO\\traffino\\data\\trajectories.py:109\u001b[0m, in \u001b[0;36mTrajectoryDataset.__init__\u001b[1;34m(self, data_dir, obs_len, pred_len, skip, delim)\u001b[0m\n\u001b[0;32m    107\u001b[0m non_linear_ped \u001b[38;5;241m=\u001b[39m []\n\u001b[0;32m    108\u001b[0m \u001b[38;5;28;01mfor\u001b[39;00m path \u001b[38;5;129;01min\u001b[39;00m all_files:\n\u001b[1;32m--> 109\u001b[0m     data \u001b[38;5;241m=\u001b[39m \u001b[43mread_file\u001b[49m\u001b[43m(\u001b[49m\u001b[43mpath\u001b[49m\u001b[43m,\u001b[49m\u001b[43m \u001b[49m\u001b[43mdelim\u001b[49m\u001b[43m)\u001b[49m\n\u001b[0;32m    110\u001b[0m     frames \u001b[38;5;241m=\u001b[39m np\u001b[38;5;241m.\u001b[39munique(data[:, \u001b[38;5;241m0\u001b[39m])\u001b[38;5;241m.\u001b[39mtolist()\n\u001b[0;32m    111\u001b[0m     frame_data \u001b[38;5;241m=\u001b[39m []\n",
      "File \u001b[1;32m~\\dev\\Traffino\\TRAFFINO\\traffino\\data\\trajectories.py:48\u001b[0m, in \u001b[0;36mread_file\u001b[1;34m(_path, delim)\u001b[0m\n\u001b[0;32m     46\u001b[0m     \u001b[38;5;28;01mfor\u001b[39;00m line \u001b[38;5;129;01min\u001b[39;00m f:\n\u001b[0;32m     47\u001b[0m         line \u001b[38;5;241m=\u001b[39m line\u001b[38;5;241m.\u001b[39mstrip()\u001b[38;5;241m.\u001b[39msplit(delim)\n\u001b[1;32m---> 48\u001b[0m         line \u001b[38;5;241m=\u001b[39m [\u001b[38;5;28mfloat\u001b[39m(i) \u001b[38;5;28;01mfor\u001b[39;00m i \u001b[38;5;129;01min\u001b[39;00m line]\n\u001b[0;32m     49\u001b[0m         data\u001b[38;5;241m.\u001b[39mappend(line)\n\u001b[0;32m     50\u001b[0m \u001b[38;5;28;01mreturn\u001b[39;00m np\u001b[38;5;241m.\u001b[39masarray(data)\n",
      "File \u001b[1;32m~\\dev\\Traffino\\TRAFFINO\\traffino\\data\\trajectories.py:48\u001b[0m, in \u001b[0;36m<listcomp>\u001b[1;34m(.0)\u001b[0m\n\u001b[0;32m     46\u001b[0m     \u001b[38;5;28;01mfor\u001b[39;00m line \u001b[38;5;129;01min\u001b[39;00m f:\n\u001b[0;32m     47\u001b[0m         line \u001b[38;5;241m=\u001b[39m line\u001b[38;5;241m.\u001b[39mstrip()\u001b[38;5;241m.\u001b[39msplit(delim)\n\u001b[1;32m---> 48\u001b[0m         line \u001b[38;5;241m=\u001b[39m [\u001b[38;5;28;43mfloat\u001b[39;49m\u001b[43m(\u001b[49m\u001b[43mi\u001b[49m\u001b[43m)\u001b[49m \u001b[38;5;28;01mfor\u001b[39;00m i \u001b[38;5;129;01min\u001b[39;00m line]\n\u001b[0;32m     49\u001b[0m         data\u001b[38;5;241m.\u001b[39mappend(line)\n\u001b[0;32m     50\u001b[0m \u001b[38;5;28;01mreturn\u001b[39;00m np\u001b[38;5;241m.\u001b[39masarray(data)\n",
      "\u001b[1;31mValueError\u001b[0m: could not convert string to float: ''"
     ]
    }
   ],
   "source": [
    "train_dset, train_loader = data_loader()"
   ]
  },
  {
   "cell_type": "code",
   "execution_count": 8,
   "id": "031c0c6a-f9c7-4766-8e20-71cb93b368c5",
   "metadata": {},
   "outputs": [
    {
     "ename": "PermissionError",
     "evalue": "[Errno 13] Permission denied: 'C:\\\\Users\\\\NGN\\\\dev\\\\Traffino\\\\TRAFFINO\\\\traffino\\\\datasets'",
     "output_type": "error",
     "traceback": [
      "\u001b[1;31m---------------------------------------------------------------------------\u001b[0m",
      "\u001b[1;31mPermissionError\u001b[0m                           Traceback (most recent call last)",
      "Cell \u001b[1;32mIn[8], line 1\u001b[0m\n\u001b[1;32m----> 1\u001b[0m \u001b[38;5;28;01mwith\u001b[39;00m \u001b[38;5;28;43mopen\u001b[39;49m\u001b[43m(\u001b[49m\u001b[43mtrain_path\u001b[49m\u001b[43m,\u001b[49m\u001b[43m \u001b[49m\u001b[38;5;124;43m'\u001b[39;49m\u001b[38;5;124;43mr\u001b[39;49m\u001b[38;5;124;43m'\u001b[39;49m\u001b[43m)\u001b[49m \u001b[38;5;28;01mas\u001b[39;00m f:\n\u001b[0;32m      2\u001b[0m     \u001b[38;5;28;01mfor\u001b[39;00m line \u001b[38;5;129;01min\u001b[39;00m f:\n\u001b[0;32m      3\u001b[0m         line \u001b[38;5;241m=\u001b[39m line\u001b[38;5;241m.\u001b[39mstrip()\u001b[38;5;241m.\u001b[39msplit(delim)\n",
      "File \u001b[1;32m~\\anaconda3\\envs\\waterloo\\lib\\site-packages\\IPython\\core\\interactiveshell.py:284\u001b[0m, in \u001b[0;36m_modified_open\u001b[1;34m(file, *args, **kwargs)\u001b[0m\n\u001b[0;32m    277\u001b[0m \u001b[38;5;28;01mif\u001b[39;00m file \u001b[38;5;129;01min\u001b[39;00m {\u001b[38;5;241m0\u001b[39m, \u001b[38;5;241m1\u001b[39m, \u001b[38;5;241m2\u001b[39m}:\n\u001b[0;32m    278\u001b[0m     \u001b[38;5;28;01mraise\u001b[39;00m \u001b[38;5;167;01mValueError\u001b[39;00m(\n\u001b[0;32m    279\u001b[0m         \u001b[38;5;124mf\u001b[39m\u001b[38;5;124m\"\u001b[39m\u001b[38;5;124mIPython won\u001b[39m\u001b[38;5;124m'\u001b[39m\u001b[38;5;124mt let you open fd=\u001b[39m\u001b[38;5;132;01m{\u001b[39;00mfile\u001b[38;5;132;01m}\u001b[39;00m\u001b[38;5;124m by default \u001b[39m\u001b[38;5;124m\"\u001b[39m\n\u001b[0;32m    280\u001b[0m         \u001b[38;5;124m\"\u001b[39m\u001b[38;5;124mas it is likely to crash IPython. If you know what you are doing, \u001b[39m\u001b[38;5;124m\"\u001b[39m\n\u001b[0;32m    281\u001b[0m         \u001b[38;5;124m\"\u001b[39m\u001b[38;5;124myou can use builtins\u001b[39m\u001b[38;5;124m'\u001b[39m\u001b[38;5;124m open.\u001b[39m\u001b[38;5;124m\"\u001b[39m\n\u001b[0;32m    282\u001b[0m     )\n\u001b[1;32m--> 284\u001b[0m \u001b[38;5;28;01mreturn\u001b[39;00m io_open(file, \u001b[38;5;241m*\u001b[39margs, \u001b[38;5;241m*\u001b[39m\u001b[38;5;241m*\u001b[39mkwargs)\n",
      "\u001b[1;31mPermissionError\u001b[0m: [Errno 13] Permission denied: 'C:\\\\Users\\\\NGN\\\\dev\\\\Traffino\\\\TRAFFINO\\\\traffino\\\\datasets'"
     ]
    }
   ],
   "source": [
    "with open(train_path, 'r') as f:\n",
    "    for line in f:\n",
    "        line = line.strip().split(delim)\n",
    "        line = [float(i) for i in line]\n",
    "        data.append(line)\n",
    "return np.asarray(data)"
   ]
  },
  {
   "cell_type": "code",
   "execution_count": null,
   "id": "793aae38-855c-4d11-ab85-f4754eb9e6b2",
   "metadata": {},
   "outputs": [],
   "source": []
  }
 ],
 "metadata": {
  "kernelspec": {
   "display_name": "waterloo",
   "language": "python",
   "name": "waterloo"
  },
  "language_info": {
   "codemirror_mode": {
    "name": "ipython",
    "version": 3
   },
   "file_extension": ".py",
   "mimetype": "text/x-python",
   "name": "python",
   "nbconvert_exporter": "python",
   "pygments_lexer": "ipython3",
   "version": "3.9.17"
  }
 },
 "nbformat": 4,
 "nbformat_minor": 5
}
